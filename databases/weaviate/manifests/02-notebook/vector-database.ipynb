{
 "cells": [
  {
   "cell_type": "raw",
   "id": "fcd145fa-10d4-4597-9250-1c61984fc5bb",
   "metadata": {},
   "source": [
    "# Copyright 2024 Google LLC\n",
    "#\n",
    "# Licensed under the Apache License, Version 2.0 (the \"License\");\n",
    "# you may not use this file except in compliance with the License.\n",
    "# You may obtain a copy of the License at\n",
    "#\n",
    "#     https://www.apache.org/licenses/LICENSE-2.0\n",
    "#\n",
    "# Unless required by applicable law or agreed to in writing, software\n",
    "# distributed under the License is distributed on an \"AS IS\" BASIS,\n",
    "# WITHOUT WARRANTIES OR CONDITIONS OF ANY KIND, either express or implied.\n",
    "# See the License for the specific language governing permissions and\n",
    "# limitations under the License."
   ]
  },
  {
   "cell_type": "raw",
   "id": "201cd5fa-25e0-4bd7-8a27-af1fc85a12e7",
   "metadata": {},
   "source": [
    "This section shows you how to upload Vectors into a new Weaviate Collection and run simple search queries using the official Weaviate client. In this example, you use a dataset from a CSV file that contains a list of books in different genres. Weaviate will serve as a search engine."
   ]
  },
  {
   "cell_type": "raw",
   "id": "51247bbb-a52f-4003-9596-439f60f3b3c9",
   "metadata": {},
   "source": [
    "Install a Weaviate client with fastembed support to eliminate reliance on external model deployment services:"
   ]
  },
  {
   "cell_type": "code",
   "execution_count": null,
   "id": "c77e963b-c9ea-47a9-bdbb-029372838364",
   "metadata": {},
   "outputs": [],
   "source": [
    "! pip install weaviate-client fastembed"
   ]
  },
  {
   "cell_type": "raw",
   "id": "320f0cb6-61c9-42fe-b361-ea3c92c35421",
   "metadata": {},
   "source": [
    "Import the required Python and Weaviate libraries:"
   ]
  },
  {
   "cell_type": "code",
   "execution_count": null,
   "id": "bb5ca67b-607d-4b23-926a-6459ea584f45",
   "metadata": {},
   "outputs": [],
   "source": [
    "import os\n",
    "import csv\n",
    "import weaviate\n",
    "import json\n",
    "from weaviate.connect import ConnectionParams\n",
    "from fastembed import TextEmbedding\n",
    "from typing import List\n",
    "import numpy as np"
   ]
  },
  {
   "cell_type": "raw",
   "id": "15f64563-f932-4a38-bd96-5b9d5cfadfd3",
   "metadata": {},
   "source": [
    "Load data from a CSV file for inserting data into a Weaviate collection:"
   ]
  },
  {
   "cell_type": "code",
   "execution_count": null,
   "id": "013284ff-e4b6-4ad7-b330-17860121c4c1",
   "metadata": {},
   "outputs": [],
   "source": [
    "books = [*csv.DictReader(open('/usr/local/dataset/dataset.csv'))]\n",
    "descriptions = [doc[\"description\"] for doc in books]\n",
    "embedding_model = TextEmbedding(model_name=\"BAAI/bge-small-en\")"
   ]
  },
  {
   "cell_type": "raw",
   "id": "df7eb305-6f3e-4215-8090-71d044a302aa",
   "metadata": {},
   "source": [
    "Define a Weaviate connection, it requires an API Key for authentication:"
   ]
  },
  {
   "cell_type": "code",
   "execution_count": null,
   "id": "13427782-ab29-4acc-9b24-59cf1f287619",
   "metadata": {},
   "outputs": [],
   "source": [
    "auth_config = weaviate.auth.AuthApiKey(api_key=os.getenv(\"APIKEY\"))\n",
    "client = weaviate.WeaviateClient(\n",
    "    connection_params=ConnectionParams.from_params(\n",
    "        http_host=\"weaviate.weaviate\",\n",
    "        http_port=\"80\",\n",
    "        http_secure=False,\n",
    "        grpc_host=\"weaviate-grpc.weaviate\",\n",
    "        grpc_port=\"50051\",\n",
    "        grpc_secure=False,\n",
    "    ),\n",
    "    auth_client_secret=auth_config\n",
    ")\n",
    "client.connect()"
   ]
  },
  {
   "cell_type": "markdown",
   "id": "69af7764-5477-4e72-b0d2-0cdcc7127443",
   "metadata": {},
   "source": [
    "Create or recreate a collection \"Book\":"
   ]
  },
  {
   "cell_type": "code",
   "execution_count": null,
   "id": "030e257a-b3ee-435a-9be2-64e3ed08b8cf",
   "metadata": {},
   "outputs": [],
   "source": [
    "if client.collections.exists(\"Book\"):\n",
    "    client.collections.delete(\"Book\") \n",
    "collection = client.collections.create(\n",
    "    name=\"Book\",\n",
    "    vectorizer_config=None\n",
    ")"
   ]
  },
  {
   "cell_type": "markdown",
   "id": "933e7a3d-843e-4dd1-9ab0-a4405947fc50",
   "metadata": {},
   "source": [
    "Insert data into the Weaviate collection:"
   ]
  },
  {
   "cell_type": "code",
   "execution_count": null,
   "id": "10ff90db-52f8-43f8-9ba2-615578b603f8",
   "metadata": {},
   "outputs": [],
   "source": [
    "with collection.batch.dynamic() as batch:\n",
    "    for i, doc in enumerate(books):  # Batch import data\n",
    "        vector=list(embedding_model.embed(doc[\"description\"]))[0]\n",
    "        print(f\"importing book: {i+1}\")\n",
    "        batch.add_object(\n",
    "            properties=doc,\n",
    "            vector=vector\n",
    "        )"
   ]
  },
  {
   "cell_type": "markdown",
   "id": "9d0ca596-9688-4df3-a8cc-dc384c1e5234",
   "metadata": {},
   "source": [
    "Define the Weaviate query function. This function runs a vector search query and displays results.\n",
    "\n",
    "It prints each result separated by a line of dashes, in the following format :\n",
    "\n",
    "- Title: Title of the book\n",
    "- Author: Author of the book\n",
    "- Publish date: Book publication date\n",
    "- Description: As stored in your document's description metadata field"
   ]
  },
  {
   "cell_type": "code",
   "execution_count": null,
   "id": "7d1cae5f-ffa3-44ea-8b9e-fd376cdc185c",
   "metadata": {},
   "outputs": [],
   "source": [
    "def handle_query(query, limit):\n",
    "    query_vector = list(embedding_model.embed([query]))[0]\n",
    "    result = (\n",
    "        collection.query.near_vector(\n",
    "            near_vector=query_vector.tolist(),\n",
    "            limit=limit\n",
    "        )\n",
    "    )\n",
    "    for hit in result.objects:\n",
    "        book = hit.properties\n",
    "        print(\"Title: {}, Author: {}, Publish date: {}\".format(book[\"title\"], book[\"author\"], book[\"publishDate\"]))\n",
    "        print(book[\"description\"])\n",
    "        print(\"---------\")"
   ]
  },
  {
   "cell_type": "markdown",
   "id": "84d4af63-4527-4e3d-9f1b-5d0cf112caf2",
   "metadata": {},
   "source": [
    "Run the query `drama about people and unhappy love`:"
   ]
  },
  {
   "cell_type": "code",
   "execution_count": null,
   "id": "365ac7bc-f06c-4db9-81f9-67354fe18e44",
   "metadata": {},
   "outputs": [],
   "source": [
    "handle_query(\"drama about people and unhappy love\", 2)"
   ]
  }
 ],
 "metadata": {
  "kernelspec": {
   "display_name": "Python 3 (ipykernel)",
   "language": "python",
   "name": "python3"
  },
  "language_info": {
   "codemirror_mode": {
    "name": "ipython",
    "version": 3
   },
   "file_extension": ".py",
   "mimetype": "text/x-python",
   "name": "python",
   "nbconvert_exporter": "python",
   "pygments_lexer": "ipython3",
   "version": "3.11.0rc1"
  }
 },
 "nbformat": 4,
 "nbformat_minor": 5
}
